{
 "cells": [
  {
   "cell_type": "code",
   "execution_count": 1,
   "metadata": {},
   "outputs": [
    {
     "name": "stdout",
     "output_type": "stream",
     "text": [
      "1.825e-05\n"
     ]
    }
   ],
   "source": [
    "l = 0.0015      # friction coefficient  -> constant\n",
    "L = 0.01        # length of pipe        -> m\n",
    "D = 0.01        # pipe diameter         -> m\n",
    "p = 1.225       # density               -> kg/m**3\n"
   ]
  }
 ],
 "metadata": {
  "interpreter": {
   "hash": "398c0e68715e4ef0ffc00f222690d171565dfaeb849877f29afd71189d5f1995"
  },
  "kernelspec": {
   "display_name": "Python 3.10.1 64-bit",
   "language": "python",
   "name": "python3"
  },
  "language_info": {
   "codemirror_mode": {
    "name": "ipython",
    "version": 3
   },
   "file_extension": ".py",
   "mimetype": "text/x-python",
   "name": "python",
   "nbconvert_exporter": "python",
   "pygments_lexer": "ipython3",
   "version": "3.10.1"
  },
  "orig_nbformat": 4
 },
 "nbformat": 4,
 "nbformat_minor": 2
}
